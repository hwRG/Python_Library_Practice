{
 "cells": [
  {
   "cell_type": "code",
   "execution_count": 17,
   "metadata": {},
   "outputs": [
    {
     "name": "stdout",
     "output_type": "stream",
     "text": [
      "(6,)\n",
      "(2, 2, 3) (2, 2)\n"
     ]
    }
   ],
   "source": [
    "# 리스트의 shape을 보는 기능\n",
    "import numpy as np\n",
    "\n",
    "first_list = [1, 2, 3, 4, 5, 6]\n",
    "\n",
    "# 1차원이면 shape에 뒤쪽 출력은 공백임\n",
    "a = np.array(first_list)\n",
    "print(a.shape) # tuple로 확인\n",
    "\n",
    "# 만약 일정하게 리스트가 존재하지 않으면 그 차원은 없다고 생각\n",
    "second_list = [[[1,2,3],[4,5,6]], [[7,8,9],[10,11,12]]]\n",
    "second_list_odd = [[[1,2,3],[4,5]], [[7,8,9],[10,11,12]]]\n",
    "b = np.array(second_list)\n",
    "c = np.array(second_list_odd)\n",
    "print(b.shape, c.shape) "
   ]
  },
  {
   "cell_type": "code",
   "execution_count": 39,
   "metadata": {},
   "outputs": [
    {
     "name": "stdout",
     "output_type": "stream",
     "text": [
      "[[0. 0.]\n",
      " [0. 0.]]\n",
      "[[10 10 10 10 10]\n",
      " [10 10 10 10 10]]\n",
      "[[1. 0. 0.]\n",
      " [0. 1. 0.]\n",
      " [0. 0. 1.]]\n",
      "[[ 0  1  2  3  4  5  6  7  8  9]\n",
      " [10 11 12 13 14 15 16 17 18 19]]\n"
     ]
    }
   ],
   "source": [
    "# numpy로 배열 만들기\n",
    "import numpy as np\n",
    "\n",
    "# zeros와 ones는 제공한 만큼 0 또는 1로 채움\n",
    "a = np.zeros((2, 2))\n",
    "print(a)\n",
    "b = np.full((2, 5), 10)\n",
    "print(b)\n",
    "c = np.eye(3)\n",
    "print(c)\n",
    "# range 안의 숫자만큼을 1씩 늘려 배열 생성\n",
    "d = np.array(range(20)).reshape((2,10))\n",
    "print(d)"
   ]
  },
  {
   "cell_type": "code",
   "execution_count": 57,
   "metadata": {},
   "outputs": [
    {
     "name": "stdout",
     "output_type": "stream",
     "text": [
      "[[1 2 3]\n",
      " [4 5 6]\n",
      " [7 8 9]]\n",
      "[[4 5]]\n",
      "\n",
      "[ 2 12  7]\n"
     ]
    }
   ],
   "source": [
    "# numpy로 슬라이싱, 정수 인덱싱\n",
    "import numpy as np\n",
    "\n",
    "list1 = [[1,2,3], [4,5,6], [7,8,9]]\n",
    "arr = np.array(list1)\n",
    "print(arr)\n",
    "\n",
    "# 마지막 인덱스 전까지 ex)[0:2] -> 0~1\n",
    "a = arr[1:2, 0:2]\n",
    "print(a, end='\\n\\n')\n",
    "\n",
    "list2 = [[1,2,3,4], [5,6,7,8], [9,10,11,12]]\n",
    "b = np.array(list2)\n",
    "# 0번째 행의 1번째, 2번째 행의 3번째\n",
    "# 첫 번째 괄호는 row1, row2를 의미하고 뒤는 col1, col2를 의미\n",
    "# 차원별로 선택되기 때문임\n",
    "t = b[[0,2,1],[1,3,2]]\n",
    "print(t)"
   ]
  },
  {
   "cell_type": "code",
   "execution_count": null,
   "metadata": {},
   "outputs": [],
   "source": []
  }
 ],
 "metadata": {
  "kernelspec": {
   "display_name": "Python 3",
   "language": "python",
   "name": "python3"
  },
  "language_info": {
   "codemirror_mode": {
    "name": "ipython",
    "version": 3
   },
   "file_extension": ".py",
   "mimetype": "text/x-python",
   "name": "python",
   "nbconvert_exporter": "python",
   "pygments_lexer": "ipython3",
   "version": "3.7.4"
  }
 },
 "nbformat": 4,
 "nbformat_minor": 2
}
