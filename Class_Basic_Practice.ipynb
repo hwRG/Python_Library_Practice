{
 "cells": [
  {
   "cell_type": "code",
   "execution_count": 7,
   "metadata": {},
   "outputs": [
    {
     "name": "stdout",
     "output_type": "stream",
     "text": [
      "My name is 한우.\n",
      "한우\n"
     ]
    }
   ],
   "source": [
    "class hwrg:\n",
    "    # 여기서 언급한 self는 이 함수를 호출한 객체(hw) 전달되는 것\n",
    "    def setName(self, first_name, last_name):\n",
    "        self.first_name = first_name\n",
    "        self.last_name = last_name\n",
    "        self.full_name = last_name + first_name\n",
    "        print(f'My name is {self.full_name}.')\n",
    "        \n",
    "hwn = hwrg()\n",
    "hwn.setName(\"우\", \"한\")\n",
    "print(hwn.full_name)"
   ]
  },
  {
   "cell_type": "code",
   "execution_count": 3,
   "metadata": {},
   "outputs": [
    {
     "name": "stdout",
     "output_type": "stream",
     "text": [
      "My name is HW.\n",
      "HP : {self._rgHP}, Armor : {self._rgArmor}\n",
      "<class 'dict'>\n",
      "한우\n",
      "21\n"
     ]
    }
   ],
   "source": [
    "# 위에서 만든 hwrg class를 상속받기 위해 괄호에 hwGame\n",
    "class hwGame(hwrg):\n",
    "    # 안전하기 위해 생성자를 구현\n",
    "    def __init__(self, rgHP, rgArmor, detail):\n",
    "        self._rgHP = rgHP\n",
    "        self._rgArmor = rgArmor\n",
    "        self._detail = detail\n",
    "    \n",
    "    @property   # 혹시 HP가 0 미만이면 에러 발생\n",
    "    def rgHP(self):\n",
    "        return self._rgHP\n",
    "    \n",
    "    def statusPrint(self):\n",
    "        print(\"HP : {self._rgHP}, Armor : {self._rgArmor}\")\n",
    "        \n",
    "hw = hwGame(-2, 20, { 'age' : 21, 'nickname' : \"한우\"})\n",
    "hw.setName(\"W\",\"H\")\n",
    "hw.statusPrint()\n",
    "\n",
    "# 클래스에 저장된 dictionary에서 요소를 골라올 때 get\n",
    "print(type(hw._detail))\n",
    "print(hw._detail.get('nickname'))\n",
    "print(hw._detail.get('age'))"
   ]
  },
  {
   "cell_type": "code",
   "execution_count": 5,
   "metadata": {},
   "outputs": [
    {
     "name": "stdout",
     "output_type": "stream",
     "text": [
      "아무것도 없으면 public SD\n",
      "언더바 1개는 protected\n"
     ]
    }
   ],
   "source": [
    "class access:\n",
    "    def __init__(self, rg):\n",
    "        self._rg = rg\n",
    "    def public(self):\n",
    "        print(f\"아무것도 없으면 public {self._rg}\")\n",
    "    def _protected(self):\n",
    "        print(\"언더바 1개는 protected\")\n",
    "    def __private(self):\n",
    "        print(\"언더바 2개는 private\")\n",
    "        \n",
    "hw = access(\"SD\")\n",
    "hw.public()\n",
    "hw._protected()\n",
    "# hw.__private()  #이러면 에러나지롱"
   ]
  },
  {
   "cell_type": "code",
   "execution_count": 6,
   "metadata": {},
   "outputs": [
    {
     "name": "stdout",
     "output_type": "stream",
     "text": [
      "Hello, My name is hw. my age is 21.\n"
     ]
    }
   ],
   "source": [
    "# 번외\n",
    "# f'str은 굉장히 유용하다\n",
    "\n",
    "name = 'hw'\n",
    "age = '21'\n",
    "\n",
    "# 굉장히 편리하게 사용할 수 있기 때문에 위에것도 다 바꿈\n",
    "print(f'Hello, My name is {name}. my age is {age}.')"
   ]
  },
  {
   "cell_type": "code",
   "execution_count": null,
   "metadata": {},
   "outputs": [],
   "source": []
  }
 ],
 "metadata": {
  "kernelspec": {
   "display_name": "Python 3",
   "language": "python",
   "name": "python3"
  },
  "language_info": {
   "codemirror_mode": {
    "name": "ipython",
    "version": 3
   },
   "file_extension": ".py",
   "mimetype": "text/x-python",
   "name": "python",
   "nbconvert_exporter": "python",
   "pygments_lexer": "ipython3",
   "version": "3.7.4"
  }
 },
 "nbformat": 4,
 "nbformat_minor": 2
}
