{
 "cells": [
  {
   "cell_type": "code",
   "execution_count": 1,
   "metadata": {},
   "outputs": [],
   "source": [
    "tempLines = []\n",
    "count = 0\n",
    "newLines = []\n",
    "newLines.append(\"{\")\n",
    "\n",
    "with open('kss-recognition-All.txt') as data:\n",
    "   lines = data.readlines()\n",
    "for line in lines:\n",
    "    line = \"./datasets/kss/audio/\" + line\n",
    "    for letter in range(len(line)):\n",
    "        if line[letter] == '|':\n",
    "            if count > 0:\n",
    "                line = '    \"' + line[0:letter-1] + '\",'\n",
    "                line = line.replace(\"|\", \":\")\n",
    "                tempLines.append(line)\n",
    "                count = 0\n",
    "                break\n",
    "            count+=1"
   ]
  },
  {
   "cell_type": "code",
   "execution_count": 2,
   "metadata": {},
   "outputs": [],
   "source": [
    "for line in tempLines:\n",
    "    line = line[0:39] + '\": \"' + line[39:-1]\n",
    "    line = line[0:25] + line[27:-1] + '\",'\n",
    "    newLines.append(line)\n",
    "newLines.append(\"}\")"
   ]
  },
  {
   "cell_type": "code",
   "execution_count": 3,
   "metadata": {},
   "outputs": [],
   "source": [
    "f = open('kss-recognition-All.json', 'w')\n",
    "for line in newLines:\n",
    "    f.write(line + \"\\n\")\n",
    "f.close()"
   ]
  },
  {
   "cell_type": "code",
   "execution_count": null,
   "metadata": {},
   "outputs": [],
   "source": []
  }
 ],
 "metadata": {
  "kernelspec": {
   "display_name": "Python 3",
   "language": "python",
   "name": "python3"
  },
  "language_info": {
   "codemirror_mode": {
    "name": "ipython",
    "version": 3
   },
   "file_extension": ".py",
   "mimetype": "text/x-python",
   "name": "python",
   "nbconvert_exporter": "python",
   "pygments_lexer": "ipython3",
   "version": "3.7.4"
  }
 },
 "nbformat": 4,
 "nbformat_minor": 2
}
