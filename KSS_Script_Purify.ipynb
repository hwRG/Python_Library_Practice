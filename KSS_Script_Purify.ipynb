{
 "cells": [
  {
   "cell_type": "code",
   "execution_count": 71,
   "metadata": {},
   "outputs": [],
   "source": [
    "tempLines = []\n",
    "newLines = []\n",
    "count = 0\n",
    "newLines.append(\"{\")\n",
    "with open('kss-recognition-All.txt') as data:\n",
    "   lines = data.readlines()\n",
    "for line in lines:\n",
    "    line = \"./datasets/moon/audio/\" + line\n",
    "    for letter in range(len(line)):\n",
    "        if line[letter] == '|':\n",
    "            if count > 0:\n",
    "                line = '    \"' + line[0:letter-1] + '\",'\n",
    "                line = line.replace(\"|\", \":\")\n",
    "                tempLines.append(line)\n",
    "                count = 0\n",
    "                break\n",
    "            count+=1\n"
   ]
  },
  {
   "cell_type": "code",
   "execution_count": 72,
   "metadata": {},
   "outputs": [],
   "source": [
    "for line in tempLines:\n",
    "    #for letter in range(len(line)):\n",
    "        #if line[letter] == ':':\n",
    "    line = line[0:39] + '\": ' + line[40:-1]\n",
    "    newLines.append(line)\n",
    "newLines.append(\"}\")\n",
    "f = open('kss-recognition-All.json', 'w')\n",
    "for line in newLines:\n",
    "    f.write(line + \"\\n\")\n",
    "\n",
    "f.close()"
   ]
  },
  {
   "cell_type": "code",
   "execution_count": null,
   "metadata": {},
   "outputs": [],
   "source": []
  }
 ],
 "metadata": {
  "kernelspec": {
   "display_name": "Python 3",
   "language": "python",
   "name": "python3"
  }
 },
 "nbformat": 4,
 "nbformat_minor": 2
}
